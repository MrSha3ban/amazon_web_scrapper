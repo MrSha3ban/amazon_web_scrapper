{
 "cells": [
  {
   "cell_type": "markdown",
   "id": "f0c1d9d2",
   "metadata": {},
   "source": [
    "\n",
    "\n",
    "\n",
    "\n",
    " <img src=\"https://github.com/MrSha3ban/MrSha3ban/blob/main/amazon.jpg?raw=true\"  width=500 >"
   ]
  },
  {
   "cell_type": "code",
   "execution_count": null,
   "id": "4deb0d93",
   "metadata": {},
   "outputs": [],
   "source": [
    "\n",
    "import pandas as pd\n",
    "import requests\n",
    "from bs4 import BeautifulSoup\n",
    "import re\n",
    "from tqdm import tqdm\n",
    "import time\n",
    "\n",
    "df=pd.read_excel('urls.xlsx')\n",
    "temp= {'asin':[''],\n",
    "        'title':[''] ,\n",
    "        'qty': [''],\n",
    "        'price':['']}\n",
    "\n",
    "temp_df=pd.DataFrame(temp) \n",
    "\n",
    "\n",
    "def extracting(urls):\n",
    "    \n",
    "   \n",
    "    response = requests.get(urls)\n",
    "    soup = BeautifulSoup(response.content, 'html.parser')\n",
    "    asin=soup.find(id='productDetails_db_sections')\n",
    "    title = soup.find(id='productTitle')\n",
    "    qty=soup.find(id='quantity')\n",
    "    price=soup.find('span', {'class': 'a-price-whole'})\n",
    "    instock=soup.find('span', {'class': 'a-size-medium a-color-success'})\n",
    "    brand=soup.find(id='bylineInfo')\n",
    "    category= soup.find(id='wayfinding-breadcrumbs_container')\n",
    "    \n",
    "   \n",
    "    images = re.findall(re.compile('<img.*?src=\"(.*?)\".*?>'),str(soup.find(id='landingImage')) )\n",
    "    \n",
    "\n",
    "\n",
    "\n",
    "    if asin:\n",
    "        asin = asin.get_text().strip().split()[3]\n",
    "\n",
    "    else:\n",
    "        asin =float(\"NaN\")\n",
    "\n",
    "    if title:\n",
    "        title = title.get_text().strip()\n",
    "\n",
    "    else:\n",
    "        title =float(\"NaN\")\n",
    "\n",
    "    if qty:\n",
    "        qty = qty.get_text().strip()\n",
    "\n",
    "    else:\n",
    "        qty = float(\"NaN\")\n",
    "\n",
    "    if price:\n",
    "        price =\"\".join(re.findall('\\d+', price.get_text().strip())   ) \n",
    "\n",
    "    else:\n",
    "        price =float(\"NaN\")\n",
    "\n",
    "\n",
    "    if instock:\n",
    "        instock =instock.get_text().strip()    \n",
    "\n",
    "    else:\n",
    "        instock =float(\"NaN\")\n",
    "        \n",
    "    if brand:\n",
    "        brand =brand.get_text().strip()    \n",
    "\n",
    "    else:\n",
    "        brand =float(\"NaN\")\n",
    "        \n",
    "    if category:\n",
    "        category = \"\".join(category.get_text().strip().split())\n",
    "\n",
    "    else:\n",
    "        category =float(\"NaN\")\n",
    "\n",
    "\n",
    "\n",
    "\n",
    "\n",
    "    temp={'asin':asin,'title':title ,\n",
    "            'qty': qty,\n",
    "            'price':price,'instock':instock,'image':images,'brand':brand,'category':category}| { i.get_text().strip():j.get_text().strip()  for i in soup.find_all('span', class_='a-size-small a-color-tertiary') for j in soup.find_all('span', class_='a-size-small tabular-buybox-text-message')}\n",
    "\n",
    "    \n",
    "    global temp_df\n",
    "\n",
    "    for i in tqdm(range(10)):\n",
    "        time.sleep(1)\n",
    "\n",
    "    temp_df =pd.concat([temp_df, pd.DataFrame(temp)])\n",
    "\n",
    "    return temp_df\n",
    "\n",
    "\n",
    "for i in df.urls:\n",
    "    extracting(i)\n",
    "\n",
    "temp_df.to_excel(f'{input(\"please enter a name for the result file : \")}.xlsx')\n",
    "print('file is created succesfully')\n",
    "    "
   ]
  },
  {
   "cell_type": "code",
   "execution_count": null,
   "id": "4207b7b1",
   "metadata": {},
   "outputs": [],
   "source": [
    "temp_df"
   ]
  },
  {
   "cell_type": "code",
   "execution_count": null,
   "id": "8520e1b3",
   "metadata": {},
   "outputs": [],
   "source": [
    "temp_df.to_excel(f'{input(\"please enter a name for the result file : \")}.xlsx')\n",
    "print('file is created succesfully')"
   ]
  },
  {
   "cell_type": "code",
   "execution_count": null,
   "id": "e4b9e783",
   "metadata": {},
   "outputs": [],
   "source": []
  },
  {
   "cell_type": "markdown",
   "id": "314c0a54",
   "metadata": {},
   "source": [
    " "
   ]
  },
  {
   "cell_type": "markdown",
   "id": "949af49c",
   "metadata": {},
   "source": [
    "\n",
    "\n",
    "\n",
    "   \n",
    "\n",
    "  \n",
    "\n",
    "\n"
   ]
  },
  {
   "cell_type": "markdown",
   "id": "a9de4574",
   "metadata": {},
   "source": [
    "<a href=\"https://mrsha3ban.github.io/Website/\"> This tool is developed By: Mr.sha3ban"
   ]
  }
 ],
 "metadata": {
  "kernelspec": {
   "display_name": "Python 3 (ipykernel)",
   "language": "python",
   "name": "python3"
  },
  "language_info": {
   "codemirror_mode": {
    "name": "ipython",
    "version": 3
   },
   "file_extension": ".py",
   "mimetype": "text/x-python",
   "name": "python",
   "nbconvert_exporter": "python",
   "pygments_lexer": "ipython3",
   "version": "3.10.9"
  }
 },
 "nbformat": 4,
 "nbformat_minor": 5
}
